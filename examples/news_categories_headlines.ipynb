{
 "cells": [
  {
   "cell_type": "markdown",
   "id": "d9bececa",
   "metadata": {},
   "source": [
    "# Multi-class Zest"
   ]
  },
  {
   "cell_type": "code",
   "execution_count": 1,
   "id": "1c26bb14",
   "metadata": {},
   "outputs": [],
   "source": [
    "import numpy as np\n",
    "import pandas as pd\n",
    "import re\n",
    "import sys\n",
    "import time\n",
    "import zstandard as zstd\n",
    "\n",
    "# adding Zest classes to the system path\n",
    "sys.path.insert(0, '../zest')\n",
    "\n",
    "from preprocess_utils import normalize, tokenize, StringNormalizer\n",
    "from sklearn.naive_bayes import MultinomialNB\n",
    "from sklearn.linear_model import LogisticRegression\n",
    "from sklearn.feature_extraction.text import CountVectorizer\n",
    "from sklearn.preprocessing import LabelEncoder\n",
    "from sklearn.model_selection import train_test_split\n",
    "from typing import Union, Dict, List\n",
    "from zest import ZstdMulticlassClassifier"
   ]
  },
  {
   "cell_type": "code",
   "execution_count": 2,
   "id": "5de7271f",
   "metadata": {},
   "outputs": [],
   "source": [
    "news = pd.read_csv(\"uci-news-aggregator.csv\")"
   ]
  },
  {
   "cell_type": "code",
   "execution_count": 3,
   "id": "7d673a7e",
   "metadata": {},
   "outputs": [],
   "source": [
    "news_text = [normalize(s) for s in news['TITLE']]\n",
    "zest_news_text = [s for s in news['TITLE']]"
   ]
  },
  {
   "cell_type": "code",
   "execution_count": 4,
   "id": "bf68206c",
   "metadata": {},
   "outputs": [
    {
     "name": "stdout",
     "output_type": "stream",
     "text": [
      "(337935, 65886)\n",
      "(337935,)\n",
      "(84484, 65886)\n",
      "(84484,)\n"
     ]
    }
   ],
   "source": [
    "encoder = LabelEncoder()\n",
    "y = encoder.fit_transform(news['CATEGORY'])\n",
    "\n",
    "# split into train and test sets\n",
    "x_train, x_test, y_train, y_test, text_train, text_test = train_test_split(news_text, y, zest_news_text, test_size=0.2)\n",
    "\n",
    "# pull the data into vectors\n",
    "vectorizer = CountVectorizer()\n",
    "x_train = vectorizer.fit_transform(x_train)\n",
    "x_test = vectorizer.transform(x_test)\n",
    "\n",
    "# take a look at the shape of each of these\n",
    "print(x_train.shape)\n",
    "print(y_train.shape)\n",
    "# print(text_train.shape)\n",
    "print(x_test.shape)\n",
    "print(y_test.shape)\n",
    "# print(text_test.shape)"
   ]
  },
  {
   "cell_type": "code",
   "execution_count": 5,
   "id": "e159ba09",
   "metadata": {},
   "outputs": [
    {
     "name": "stdout",
     "output_type": "stream",
     "text": [
      "NB train time:  0.10689401626586914\n"
     ]
    }
   ],
   "source": [
    "nb = MultinomialNB()\n",
    "start_time = time.time()\n",
    "nb.fit(x_train[:,:-1], y_train)\n",
    "end_time = time.time()\n",
    "print(\"NB train time: \", end_time - start_time)"
   ]
  },
  {
   "cell_type": "code",
   "execution_count": 6,
   "id": "9082862e",
   "metadata": {},
   "outputs": [
    {
     "name": "stdout",
     "output_type": "stream",
     "text": [
      "NB score:  0.9268974006912551\n",
      "NB test time:  0.023633956909179688\n"
     ]
    }
   ],
   "source": [
    "start_time = time.time()\n",
    "print(\"NB score: \", nb.score(x_test[:,:-1], y_test))\n",
    "end_time = time.time()\n",
    "print(\"NB test time: \", end_time - start_time)"
   ]
  },
  {
   "cell_type": "code",
   "execution_count": 7,
   "id": "3e6918db",
   "metadata": {},
   "outputs": [
    {
     "name": "stdout",
     "output_type": "stream",
     "text": [
      "LR train time:  24.45448660850525\n"
     ]
    },
    {
     "name": "stderr",
     "output_type": "stream",
     "text": [
      "/Users/nityakasturi/Library/Python/3.7/lib/python/site-packages/sklearn/linear_model/_logistic.py:818: ConvergenceWarning: lbfgs failed to converge (status=1):\n",
      "STOP: TOTAL NO. of ITERATIONS REACHED LIMIT.\n",
      "\n",
      "Increase the number of iterations (max_iter) or scale the data as shown in:\n",
      "    https://scikit-learn.org/stable/modules/preprocessing.html\n",
      "Please also refer to the documentation for alternative solver options:\n",
      "    https://scikit-learn.org/stable/modules/linear_model.html#logistic-regression\n",
      "  extra_warning_msg=_LOGISTIC_SOLVER_CONVERGENCE_MSG,\n"
     ]
    }
   ],
   "source": [
    "lr = LogisticRegression(class_weight=\"balanced\")\n",
    "start_time = time.time()\n",
    "lr.fit(x_train[:,:-1], y_train)\n",
    "end_time = time.time()\n",
    "print(\"LR train time: \", end_time - start_time)"
   ]
  },
  {
   "cell_type": "code",
   "execution_count": 8,
   "id": "17e70a7b",
   "metadata": {},
   "outputs": [
    {
     "name": "stdout",
     "output_type": "stream",
     "text": [
      "LR score:  0.9447114246484541\n",
      "LR test time:  0.05406594276428223\n"
     ]
    }
   ],
   "source": [
    "start_time = time.time()\n",
    "print(\"LR score: \", lr.score(x_test[:,:-1], y_test))\n",
    "end_time = time.time()\n",
    "print(\"LR test time: \", end_time - start_time)"
   ]
  },
  {
   "cell_type": "code",
   "execution_count": 9,
   "id": "08bae656",
   "metadata": {},
   "outputs": [],
   "source": [
    "class_map = {}\n",
    "text = list(text_train)\n",
    "for i in range(y_train.shape[0]):\n",
    "    curr_class = y_train[i]\n",
    "    if curr_class not in class_map: \n",
    "        class_map[curr_class] = [text[i]]\n",
    "    else:\n",
    "        class_map[curr_class].append(text[i])"
   ]
  },
  {
   "cell_type": "code",
   "execution_count": 10,
   "id": "274862d8",
   "metadata": {},
   "outputs": [
    {
     "name": "stdout",
     "output_type": "stream",
     "text": [
      "4 classes;  dictionary sizes: [16384, 422344, 828304, 1234264]\n",
      "Zest train time:  140.05222296714783\n"
     ]
    }
   ],
   "source": [
    "start_time = time.time()\n",
    "cls = ZstdMulticlassClassifier(class_map, 4) # 4 dicts, level 22, min 256\n",
    "end_time = time.time()\n",
    "print(\"Zest train time: \", end_time - start_time)"
   ]
  },
  {
   "cell_type": "code",
   "execution_count": 11,
   "id": "f26aca07",
   "metadata": {},
   "outputs": [
    {
     "name": "stdout",
     "output_type": "stream",
     "text": [
      "Zest + LR test time:  183.90430116653442\n"
     ]
    }
   ],
   "source": [
    "tests = list(text_test)\n",
    "\n",
    "predicted_class = []\n",
    "\n",
    "start_time = time.time()\n",
    "\n",
    "for i in range(len(tests)):\n",
    "    zest_scores = cls.getClassAffinities(tests[i], sort=False)\n",
    "    zest_scores.sort(key=lambda x:x[1])\n",
    "    lr_scores = lr.predict_proba(x_test[i, :-1])[0]\n",
    "    \n",
    "    # average of lr score and zest score\n",
    "    pred_values = [(zest_scores[i][0] + lr_scores[i]) / 2.0 for i in range(len(zest_scores))]\n",
    "    value = max(pred_values)\n",
    "    pred_class = pred_values.index(value)\n",
    "    predicted_class.append(pred_class)\n",
    "\n",
    "end_time = time.time()\n",
    "print(\"Zest + LR test time: \", end_time - start_time)"
   ]
  },
  {
   "cell_type": "code",
   "execution_count": 12,
   "id": "41b1798b",
   "metadata": {},
   "outputs": [
    {
     "data": {
      "text/plain": [
       "0.9494342123952464"
      ]
     },
     "execution_count": 12,
     "metadata": {},
     "output_type": "execute_result"
    }
   ],
   "source": [
    "np.mean(np.array(predicted_class) == list(y_test)) #combined"
   ]
  },
  {
   "cell_type": "code",
   "execution_count": 13,
   "id": "65301118",
   "metadata": {},
   "outputs": [
    {
     "name": "stdout",
     "output_type": "stream",
     "text": [
      "Zest test time:  82.06365728378296\n"
     ]
    }
   ],
   "source": [
    "tests = list(text_test)\n",
    "\n",
    "predicted_class = []\n",
    "start_time = time.time()\n",
    "\n",
    "for t in tests:\n",
    "    predicted_class.append(cls.getClassAffinities(t)[0][1])\n",
    "\n",
    "end_time = time.time()\n",
    "print(\"Zest test time: \", end_time - start_time)"
   ]
  },
  {
   "cell_type": "code",
   "execution_count": 14,
   "id": "956d836f",
   "metadata": {},
   "outputs": [
    {
     "data": {
      "text/plain": [
       "0.9221746129444629"
      ]
     },
     "execution_count": 14,
     "metadata": {},
     "output_type": "execute_result"
    }
   ],
   "source": [
    "np.mean(np.array(predicted_class) == list(y_test)) # zest only"
   ]
  },
  {
   "cell_type": "code",
   "execution_count": 15,
   "id": "e74bce05",
   "metadata": {},
   "outputs": [
    {
     "name": "stdout",
     "output_type": "stream",
     "text": [
      "4 classes;  dictionary sizes: [16384, 828304]\n",
      "Zest train time:  67.7407591342926\n"
     ]
    }
   ],
   "source": [
    "start_time = time.time()\n",
    "cls = ZstdMulticlassClassifier(class_map, 2) # 2 dicts, level 22, min 256\n",
    "end_time = time.time()\n",
    "print(\"Zest train time: \", end_time - start_time)"
   ]
  },
  {
   "cell_type": "code",
   "execution_count": 16,
   "id": "00da02e1",
   "metadata": {},
   "outputs": [
    {
     "name": "stdout",
     "output_type": "stream",
     "text": [
      "Zest + LR test time:  142.45083379745483\n"
     ]
    }
   ],
   "source": [
    "tests = list(text_test)\n",
    "\n",
    "predicted_class = []\n",
    "\n",
    "start_time = time.time()\n",
    "\n",
    "for i in range(len(tests)):\n",
    "    zest_scores = cls.getClassAffinities(tests[i], sort=False)\n",
    "    zest_scores.sort(key=lambda x:x[1])\n",
    "    lr_scores = lr.predict_proba(x_test[i, :-1])[0]\n",
    "\n",
    "    pred_values = [(zest_scores[i][0] + lr_scores[i]) / 2.0 for i in range(len(zest_scores))]\n",
    "    value = max(pred_values)\n",
    "    pred_class = pred_values.index(value)\n",
    "    predicted_class.append(pred_class)\n",
    "\n",
    "end_time = time.time()\n",
    "print(\"Zest + LR test time: \", end_time - start_time)"
   ]
  },
  {
   "cell_type": "code",
   "execution_count": 17,
   "id": "f527bd94",
   "metadata": {},
   "outputs": [
    {
     "data": {
      "text/plain": [
       "0.9466289474930164"
      ]
     },
     "execution_count": 17,
     "metadata": {},
     "output_type": "execute_result"
    }
   ],
   "source": [
    "np.mean(np.array(predicted_class) == list(y_test)) #combined"
   ]
  },
  {
   "cell_type": "code",
   "execution_count": 18,
   "id": "a4191338",
   "metadata": {},
   "outputs": [
    {
     "name": "stdout",
     "output_type": "stream",
     "text": [
      "Zest test time:  31.444836854934692\n"
     ]
    }
   ],
   "source": [
    "tests = list(text_test)\n",
    "\n",
    "predicted_class = []\n",
    "start_time = time.time()\n",
    "\n",
    "for t in tests:\n",
    "    predicted_class.append(cls.getClassAffinities(t)[0][1])\n",
    "\n",
    "end_time = time.time()\n",
    "print(\"Zest test time: \", end_time - start_time)"
   ]
  },
  {
   "cell_type": "code",
   "execution_count": 19,
   "id": "e76734a9",
   "metadata": {},
   "outputs": [
    {
     "data": {
      "text/plain": [
       "0.8867241134415984"
      ]
     },
     "execution_count": 19,
     "metadata": {},
     "output_type": "execute_result"
    }
   ],
   "source": [
    "np.mean(np.array(predicted_class) == list(y_test)) # zest only"
   ]
  },
  {
   "cell_type": "code",
   "execution_count": 20,
   "id": "6b3e65cd",
   "metadata": {},
   "outputs": [
    {
     "name": "stdout",
     "output_type": "stream",
     "text": [
      "4 classes;  dictionary sizes: [16384]\n",
      "Zest train time:  32.15986680984497\n"
     ]
    }
   ],
   "source": [
    "start_time = time.time()\n",
    "cls = ZstdMulticlassClassifier(class_map, 1) # 1 dict, level 22, min 256\n",
    "end_time = time.time()\n",
    "print(\"Zest train time: \", end_time - start_time)"
   ]
  },
  {
   "cell_type": "code",
   "execution_count": 21,
   "id": "5ef1a9c9",
   "metadata": {},
   "outputs": [
    {
     "name": "stdout",
     "output_type": "stream",
     "text": [
      "Zest + LR test time:  132.20576310157776\n"
     ]
    }
   ],
   "source": [
    "tests = list(text_test)\n",
    "\n",
    "predicted_class = []\n",
    "\n",
    "start_time = time.time()\n",
    "\n",
    "for i in range(len(tests)):\n",
    "    zest_scores = cls.getClassAffinities(tests[i], sort=False)\n",
    "    zest_scores.sort(key=lambda x:x[1])\n",
    "    lr_scores = lr.predict_proba(x_test[i, :-1])[0]\n",
    "\n",
    "    pred_values = [(zest_scores[i][0] + lr_scores[i]) / 2.0 for i in range(len(zest_scores))]\n",
    "    value = max(pred_values)\n",
    "    pred_class = pred_values.index(value)\n",
    "    predicted_class.append(pred_class)\n",
    "\n",
    "end_time = time.time()\n",
    "print(\"Zest + LR test time: \", end_time - start_time)"
   ]
  },
  {
   "cell_type": "code",
   "execution_count": 22,
   "id": "b79318c1",
   "metadata": {},
   "outputs": [
    {
     "data": {
      "text/plain": [
       "0.937278064485583"
      ]
     },
     "execution_count": 22,
     "metadata": {},
     "output_type": "execute_result"
    }
   ],
   "source": [
    "np.mean(np.array(predicted_class) == list(y_test)) #combined"
   ]
  },
  {
   "cell_type": "code",
   "execution_count": 23,
   "id": "53b361ac",
   "metadata": {},
   "outputs": [
    {
     "name": "stdout",
     "output_type": "stream",
     "text": [
      "Zest test time:  14.321686029434204\n"
     ]
    }
   ],
   "source": [
    "tests = list(text_test)\n",
    "\n",
    "predicted_class = []\n",
    "start_time = time.time()\n",
    "\n",
    "for t in tests:\n",
    "    predicted_class.append(cls.getClassAffinities(t)[0][1])\n",
    "\n",
    "end_time = time.time()\n",
    "print(\"Zest test time: \", end_time - start_time)"
   ]
  },
  {
   "cell_type": "code",
   "execution_count": 24,
   "id": "9fda5c96",
   "metadata": {},
   "outputs": [
    {
     "data": {
      "text/plain": [
       "0.7407556460394867"
      ]
     },
     "execution_count": 24,
     "metadata": {},
     "output_type": "execute_result"
    }
   ],
   "source": [
    "np.mean(np.array(predicted_class) == list(y_test)) # zest only"
   ]
  },
  {
   "cell_type": "code",
   "execution_count": null,
   "id": "847da7b5",
   "metadata": {},
   "outputs": [],
   "source": []
  }
 ],
 "metadata": {
  "kernelspec": {
   "display_name": "Python 3 (ipykernel)",
   "language": "python",
   "name": "python3"
  },
  "language_info": {
   "codemirror_mode": {
    "name": "ipython",
    "version": 3
   },
   "file_extension": ".py",
   "mimetype": "text/x-python",
   "name": "python",
   "nbconvert_exporter": "python",
   "pygments_lexer": "ipython3",
   "version": "3.7.5"
  }
 },
 "nbformat": 4,
 "nbformat_minor": 5
}
