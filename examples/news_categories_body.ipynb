{
 "cells": [
  {
   "cell_type": "markdown",
   "id": "b9f068b4",
   "metadata": {},
   "source": [
    "# Multi-class Zest on news articles"
   ]
  },
  {
   "cell_type": "code",
   "execution_count": 1,
   "id": "7ec42390",
   "metadata": {},
   "outputs": [],
   "source": [
    "import numpy as np\n",
    "import pandas as pd\n",
    "import re\n",
    "import sys\n",
    "import time\n",
    "import zstandard as zstd\n",
    "\n",
    "# adding Zest classes to the system path\n",
    "sys.path.insert(0, '../zest')\n",
    "\n",
    "from preprocess_utils import StringNormalizer, normalize, tokenize\n",
    "from sklearn.naive_bayes import MultinomialNB\n",
    "from sklearn.linear_model import LogisticRegression\n",
    "from sklearn.feature_extraction.text import CountVectorizer\n",
    "from sklearn.preprocessing import LabelEncoder\n",
    "from sklearn.model_selection import train_test_split\n",
    "from typing import Union, Dict, List\n",
    "from zest import ZstdMulticlassClassifier"
   ]
  },
  {
   "cell_type": "code",
   "execution_count": 2,
   "id": "c5426ada",
   "metadata": {},
   "outputs": [],
   "source": [
    "news = pd.read_csv(\"news-article-categories.csv\")"
   ]
  },
  {
   "cell_type": "code",
   "execution_count": 3,
   "id": "4d101da2",
   "metadata": {},
   "outputs": [],
   "source": [
    "news = news[news.isnull().any(axis=1) != True]"
   ]
  },
  {
   "cell_type": "code",
   "execution_count": 4,
   "id": "2d8e4898",
   "metadata": {},
   "outputs": [],
   "source": [
    "news_title = [normalize(s) for s in news['title']]\n",
    "zest_news_title = [s for s in news['title']]\n",
    "news_body = [normalize(s) for s in news['body']]\n",
    "zest_news_body = [s for s in news['title']]\n",
    "news_category = [s for s in news['category']]"
   ]
  },
  {
   "cell_type": "code",
   "execution_count": 5,
   "id": "f3c53480",
   "metadata": {},
   "outputs": [],
   "source": [
    "news_data = [news_title[i] + ' ' + news_body[i] for i in range(len(news_title))]\n",
    "zest_news_data = [zest_news_title[i] + ' ' + zest_news_body[i] for i in range(len(news_title))]"
   ]
  },
  {
   "cell_type": "code",
   "execution_count": 6,
   "id": "59a254f4",
   "metadata": {},
   "outputs": [
    {
     "name": "stdout",
     "output_type": "stream",
     "text": [
      "(5497, 87400)\n",
      "(5497,)\n",
      "(1375, 87400)\n",
      "(1375,)\n"
     ]
    }
   ],
   "source": [
    "encoder = LabelEncoder()\n",
    "y = encoder.fit_transform(news_category)\n",
    "\n",
    "# split into train and test sets\n",
    "x_train, x_test, y_train, y_test, text_train, text_test = train_test_split(news_body, y, zest_news_body, test_size=0.2)\n",
    "\n",
    "# pull the data into vectors\n",
    "vectorizer = CountVectorizer()\n",
    "x_train = vectorizer.fit_transform(x_train)\n",
    "x_test = vectorizer.transform(x_test)\n",
    "\n",
    "# take a look at the shape of each of these\n",
    "print(x_train.shape)\n",
    "print(y_train.shape)\n",
    "# print(text_train.shape)\n",
    "print(x_test.shape)\n",
    "print(y_test.shape)\n",
    "# print(text_test.shape)"
   ]
  },
  {
   "cell_type": "code",
   "execution_count": 7,
   "id": "c0f4d37d",
   "metadata": {},
   "outputs": [
    {
     "name": "stdout",
     "output_type": "stream",
     "text": [
      "NB train time:  0.06722784042358398\n"
     ]
    }
   ],
   "source": [
    "nb = MultinomialNB()\n",
    "start_time = time.time()\n",
    "nb.fit(x_train[:,:-1], y_train)\n",
    "end_time = time.time()\n",
    "print(\"NB train time: \", end_time - start_time)"
   ]
  },
  {
   "cell_type": "code",
   "execution_count": 8,
   "id": "d61dae22",
   "metadata": {},
   "outputs": [
    {
     "name": "stdout",
     "output_type": "stream",
     "text": [
      "NB score:  0.7098181818181818\n",
      "NB test time:  0.01630377769470215\n"
     ]
    }
   ],
   "source": [
    "start_time = time.time()\n",
    "print(\"NB score: \", nb.score(x_test[:,:-1], y_test))\n",
    "end_time = time.time()\n",
    "print(\"NB test time: \", end_time - start_time)"
   ]
  },
  {
   "cell_type": "code",
   "execution_count": 9,
   "id": "be9db7b1",
   "metadata": {},
   "outputs": [
    {
     "name": "stdout",
     "output_type": "stream",
     "text": [
      "LR train time:  30.197779893875122\n"
     ]
    },
    {
     "name": "stderr",
     "output_type": "stream",
     "text": [
      "/Users/nityakasturi/Library/Python/3.7/lib/python/site-packages/sklearn/linear_model/_logistic.py:818: ConvergenceWarning: lbfgs failed to converge (status=1):\n",
      "STOP: TOTAL NO. of ITERATIONS REACHED LIMIT.\n",
      "\n",
      "Increase the number of iterations (max_iter) or scale the data as shown in:\n",
      "    https://scikit-learn.org/stable/modules/preprocessing.html\n",
      "Please also refer to the documentation for alternative solver options:\n",
      "    https://scikit-learn.org/stable/modules/linear_model.html#logistic-regression\n",
      "  extra_warning_msg=_LOGISTIC_SOLVER_CONVERGENCE_MSG,\n"
     ]
    }
   ],
   "source": [
    "lr = LogisticRegression(class_weight=\"balanced\")\n",
    "start_time = time.time()\n",
    "lr.fit(x_train[:,:-1], y_train)\n",
    "end_time = time.time()\n",
    "print(\"LR train time: \", end_time - start_time)"
   ]
  },
  {
   "cell_type": "code",
   "execution_count": 10,
   "id": "b077bc8e",
   "metadata": {},
   "outputs": [
    {
     "name": "stdout",
     "output_type": "stream",
     "text": [
      "LR score:  0.7752727272727272\n",
      "LR test time:  0.03171896934509277\n"
     ]
    }
   ],
   "source": [
    "start_time = time.time()\n",
    "print(\"LR score: \", lr.score(x_test[:,:-1], y_test))\n",
    "end_time = time.time()\n",
    "print(\"LR test time: \", end_time - start_time)"
   ]
  },
  {
   "cell_type": "code",
   "execution_count": 11,
   "id": "7fccf60c",
   "metadata": {},
   "outputs": [],
   "source": [
    "class_map = {}\n",
    "text = list(text_train)\n",
    "for i in range(y_train.shape[0]):\n",
    "    curr_class = y_train[i]\n",
    "    if curr_class not in class_map: \n",
    "        class_map[curr_class] = [text[i]]\n",
    "    else:\n",
    "        class_map[curr_class].append(text[i])"
   ]
  },
  {
   "cell_type": "code",
   "execution_count": 12,
   "id": "2b5fe3c3",
   "metadata": {},
   "outputs": [
    {
     "name": "stdout",
     "output_type": "stream",
     "text": [
      "14 classes;  dictionary sizes: [3393, 7490, 11588, 15686]\n",
      "Zest train time:  2.2762749195098877\n"
     ]
    }
   ],
   "source": [
    "start_time = time.time()\n",
    "cls = ZstdMulticlassClassifier(class_map, 4) # 4 dicts, level 22, min 256\n",
    "end_time = time.time()\n",
    "print(\"Zest train time: \", end_time - start_time)"
   ]
  },
  {
   "cell_type": "code",
   "execution_count": 13,
   "id": "7ba1d5c3",
   "metadata": {},
   "outputs": [
    {
     "name": "stdout",
     "output_type": "stream",
     "text": [
      "Zest + LR test time:  11.675457000732422\n"
     ]
    }
   ],
   "source": [
    "tests = list(text_test)\n",
    "\n",
    "predicted_class = []\n",
    "\n",
    "start_time = time.time()\n",
    "\n",
    "for i in range(len(tests)):\n",
    "    zest_scores = cls.getClassAffinities(tests[i], sort=False)\n",
    "    zest_scores.sort(key=lambda x:x[1])\n",
    "    lr_scores = lr.predict_proba(x_test[i, :-1])[0]\n",
    "    \n",
    "    # average of lr score and zest score\n",
    "    pred_values = [(zest_scores[i][0] + lr_scores[i]) / 2.0 for i in range(len(zest_scores))]\n",
    "    value = max(pred_values)\n",
    "    pred_class = pred_values.index(value)\n",
    "    predicted_class.append(pred_class)\n",
    "\n",
    "end_time = time.time()\n",
    "print(\"Zest + LR test time: \", end_time - start_time)"
   ]
  },
  {
   "cell_type": "code",
   "execution_count": 14,
   "id": "876e095d",
   "metadata": {},
   "outputs": [
    {
     "data": {
      "text/plain": [
       "0.7818181818181819"
      ]
     },
     "execution_count": 14,
     "metadata": {},
     "output_type": "execute_result"
    }
   ],
   "source": [
    "np.mean(np.array(predicted_class) == list(y_test)) #combined"
   ]
  },
  {
   "cell_type": "code",
   "execution_count": 15,
   "id": "13e0b82e",
   "metadata": {},
   "outputs": [
    {
     "name": "stdout",
     "output_type": "stream",
     "text": [
      "Zest test time:  4.469358682632446\n"
     ]
    }
   ],
   "source": [
    "tests = list(text_test)\n",
    "\n",
    "predicted_class = []\n",
    "start_time = time.time()\n",
    "\n",
    "for t in tests:\n",
    "    predicted_class.append(cls.getClassAffinities(t)[0][1])\n",
    "\n",
    "end_time = time.time()\n",
    "print(\"Zest test time: \", end_time - start_time)"
   ]
  },
  {
   "cell_type": "code",
   "execution_count": 16,
   "id": "4bbf4c48",
   "metadata": {},
   "outputs": [
    {
     "data": {
      "text/plain": [
       "0.46836363636363637"
      ]
     },
     "execution_count": 16,
     "metadata": {},
     "output_type": "execute_result"
    }
   ],
   "source": [
    "np.mean(np.array(predicted_class) == list(y_test)) # zest only"
   ]
  },
  {
   "cell_type": "code",
   "execution_count": 18,
   "id": "4997b9c8",
   "metadata": {},
   "outputs": [
    {
     "name": "stdout",
     "output_type": "stream",
     "text": [
      "Zest test time:  1.2235162258148193\n"
     ]
    }
   ],
   "source": [
    "tests = list(text_test)\n",
    "\n",
    "predicted_class = []\n",
    "start_time = time.time()\n",
    "\n",
    "for t in tests:\n",
    "    predicted_class.append(cls.getClassAffinities(t, sort=True, double=False)[0][1])\n",
    "\n",
    "end_time = time.time()\n",
    "print(\"Zest test time: \", end_time - start_time)"
   ]
  },
  {
   "cell_type": "code",
   "execution_count": 19,
   "id": "0564c164",
   "metadata": {},
   "outputs": [
    {
     "data": {
      "text/plain": [
       "0.448"
      ]
     },
     "execution_count": 19,
     "metadata": {},
     "output_type": "execute_result"
    }
   ],
   "source": [
    "np.mean(np.array(predicted_class) == list(y_test)) # zest only"
   ]
  },
  {
   "cell_type": "code",
   "execution_count": null,
   "id": "73428122",
   "metadata": {},
   "outputs": [],
   "source": []
  }
 ],
 "metadata": {
  "kernelspec": {
   "display_name": "Python 3 (ipykernel)",
   "language": "python",
   "name": "python3"
  },
  "language_info": {
   "codemirror_mode": {
    "name": "ipython",
    "version": 3
   },
   "file_extension": ".py",
   "mimetype": "text/x-python",
   "name": "python",
   "nbconvert_exporter": "python",
   "pygments_lexer": "ipython3",
   "version": "3.7.5"
  }
 },
 "nbformat": 4,
 "nbformat_minor": 5
}
